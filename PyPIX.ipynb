{
  "nbformat": 4,
  "nbformat_minor": 0,
  "metadata": {
    "colab": {
      "provenance": []
    },
    "kernelspec": {
      "name": "python3",
      "display_name": "Python 3"
    },
    "language_info": {
      "name": "python"
    }
  },
  "cells": [
    {
      "cell_type": "code",
      "execution_count": null,
      "metadata": {
        "id": "jjATJySHqWjm"
      },
      "outputs": [],
      "source": [
        "!pip install qrcode"
      ]
    },
    {
      "cell_type": "code",
      "source": [
        "import qrcode\n",
        "\n",
        "def gerar_qr_code_pix(valor, destinatario):\n",
        "  # Gere a chave PIX usando o valor e o nome ou razão social do destinatário\n",
        "  chave_pix = \"VALOR=\" + str(valor) + \"&DESTINATARIO=\" + destinatario\n",
        "  \n",
        "  # Crie o QR code a partir da chave PIX\n",
        "  qr = qrcode.QRCode(\n",
        "      version=1,\n",
        "      error_correction=qrcode.constants.ERROR_CORRECT_L,\n",
        "      box_size=10,\n",
        "      border=4,\n",
        "  )\n",
        "  qr.add_data(chave_pix) # Adicione os dados da chave Pix ao QR Code\n",
        "  qr.make(fit=True) # Gere o QR Code\n",
        "  \n",
        "  # Crie uma imagem a partir do QR Code\n",
        "  img = qr.make_image(fill_color=\"black\", back_color=\"white\")\n",
        "  \n",
        "  # Salve o QR Code em um arquivo de imagem\n",
        "  img.save(\"pix.png\")\n",
        "  \n",
        "  # Imprima o QR Code na tela\n",
        "  img.show()\n",
        "\n",
        "# Leia o valor e o destinatário do teclado\n",
        "valor = input(\"Insira o valor da transação: \")\n",
        "destinatario = input(\"Insira o nome ou razão social do destinatário: \")\n",
        "\n",
        "# Converta o valor para um número e chame a função com os inputs lidos\n",
        "gerar_qr_code_pix(float(valor), destinatario)\n",
        "\n"
      ],
      "metadata": {
        "colab": {
          "base_uri": "https://localhost:8080/"
        },
        "id": "MFKJszNEqX_D",
        "outputId": "9a69386b-7bdb-4e1b-e205-846990955367"
      },
      "execution_count": 5,
      "outputs": [
        {
          "name": "stdout",
          "output_type": "stream",
          "text": [
            "Insira o valor da transação: 200\n",
            "Insira o nome ou razão social do destinatário: Loja Agro Maracana\n"
          ]
        }
      ]
    }
  ]
}